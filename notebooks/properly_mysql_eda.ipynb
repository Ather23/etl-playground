{
 "cells": [
  {
   "cell_type": "markdown",
   "metadata": {},
   "source": [
    "# Note book for Viewing data in db"
   ]
  },
  {
   "cell_type": "code",
   "execution_count": 1,
   "metadata": {},
   "outputs": [
    {
     "name": "stdout",
     "output_type": "stream",
     "text": [
      "Collecting mysql-connector-python\n",
      "  Downloading mysql_connector_python-8.0.26-cp38-cp38-win_amd64.whl (799 kB)\n",
      "Note: you may need to restart the kernel to use updated packages.Requirement already satisfied: protobuf>=3.0.0 in d:\\devapps\\anaconda\\lib\\site-packages (from mysql-connector-python) (3.14.0)\n",
      "\n",
      "Requirement already satisfied: six>=1.9 in d:\\devapps\\anaconda\\lib\\site-packages (from protobuf>=3.0.0->mysql-connector-python) (1.15.0)\n",
      "Installing collected packages: mysql-connector-python\n",
      "Successfully installed mysql-connector-python-8.0.26\n"
     ]
    }
   ],
   "source": [
    "pip install mysql-connector-python"
   ]
  },
  {
   "cell_type": "code",
   "execution_count": 12,
   "metadata": {},
   "outputs": [
    {
     "name": "stdout",
     "output_type": "stream",
     "text": [
      "<mysql.connector.connection.MySQLConnection object at 0x00000194EB1DC580>\n"
     ]
    }
   ],
   "source": [
    "import mysql.connector\n",
    "\n",
    "conn = mysql.connector.connect(\n",
    "  host=\"localhost\",\n",
    "  user=\"user\",\n",
    "  password=\"password\",\n",
    "  database=\"properly_db\"\n",
    ")\n",
    "\n",
    "print(conn)"
   ]
  },
  {
   "cell_type": "code",
   "execution_count": 13,
   "metadata": {},
   "outputs": [
    {
     "name": "stdout",
     "output_type": "stream",
     "text": [
      "           id      date_     price  bedrooms  bathrooms  sqft_living  \\\n",
      "0  7129300520 2014-10-13  221900.0         3       1.00         1180   \n",
      "1  6414100192 2014-12-09  538000.0         3       2.25         2570   \n",
      "2  5631500400 2015-02-25  180000.0         2       1.00          770   \n",
      "3  2487200875 2014-12-09  604000.0         4       3.00         1960   \n",
      "4  1954400510 2015-02-18  510000.0         3       2.00         1680   \n",
      "\n",
      "   sqft_lot  view  condition_  grade  sqft_above  yr_built  yr_renovated  \\\n",
      "0      5650     0           3      7        1180      1955             0   \n",
      "1      7242     0           3      7        2170      1951          1991   \n",
      "2     10000     0           3      6         770      1933             0   \n",
      "3      5000     0           5      7        1050      1965             0   \n",
      "4      8080     0           3      8        1680      1987             0   \n",
      "\n",
      "  zipcode      lat    long_  sqft_living15  sqft_lot15  \n",
      "0   98178  47.5112 -122.257           1340        5650  \n",
      "1   98125  47.7210 -122.319           1690        7639  \n",
      "2   98028  47.7379 -122.233           2720        8062  \n",
      "3   98136  47.5208 -122.393           1360        5000  \n",
      "4   98074  47.6168 -122.045           1800        7503  \n"
     ]
    }
   ],
   "source": [
    "import pandas as pd\n",
    "kaggle_data_df=pd.read_sql_query(\"SELECT * FROM kaggle_data\",conn)\n",
    "print(kaggle_data_df.head())"
   ]
  },
  {
   "cell_type": "code",
   "execution_count": 16,
   "metadata": {},
   "outputs": [
    {
     "name": "stdout",
     "output_type": "stream",
     "text": [
      "        id permit_               permit_type      review_type  \\\n",
      "0  1000268  116939  PERMIT - ELECTRIC WIRING  EASY PERMIT WEB   \n",
      "1  1000581  117154  PERMIT - ELECTRIC WIRING  EASY PERMIT WEB   \n",
      "2  1000582  117155  PERMIT - ELECTRIC WIRING  EASY PERMIT WEB   \n",
      "3  1000601  117174  PERMIT - ELECTRIC WIRING  EASY PERMIT WEB   \n",
      "4  1000827  117276  PERMIT - ELECTRIC WIRING  EASY PERMIT WEB   \n",
      "\n",
      "  application_start_date issue_date processing_time street_number  \\\n",
      "0             2002-06-28 2002-06-28            1835          1212   \n",
      "1             2002-07-01 2002-07-01            1832          6355   \n",
      "2             2002-07-01 2002-07-01            1832          8335   \n",
      "3             2002-07-01 2002-07-01            1832           315   \n",
      "4             2002-07-02 2002-07-02            1831          6388   \n",
      "\n",
      "  street_direction          street_name  ... other_fee_unpaid subtotal_unpaid  \\\n",
      "0                W            FULLERTON  ...                0               0   \n",
      "1                S  DR MARTIN L KING JR  ...                0               0   \n",
      "2                W              HIGGINS  ...                0               0   \n",
      "3                N               WABASH  ...                0               0   \n",
      "4                N              NOKOMIS  ...                0               0   \n",
      "\n",
      "  building_fee_waived zoning_fee_waived other_fee_waived subtotal_waived  \\\n",
      "0                   0                 0                0               0   \n",
      "1                   0                 0                0               0   \n",
      "2                   0                 0                0               0   \n",
      "3                   0                 0                0               0   \n",
      "4                   0                 0                0               0   \n",
      "\n",
      "  total_fee reported_cost latitude longitude  \n",
      "0        50             0  41.9254  -87.6590  \n",
      "1        60             0  41.7786  -87.6154  \n",
      "2        40             0  41.9861  -87.8356  \n",
      "3        40             0  41.8873  -87.6264  \n",
      "4        50             0  41.9972  -87.7597  \n",
      "\n",
      "[5 rows x 28 columns]\n"
     ]
    }
   ],
   "source": [
    "api_df=pd.read_sql_query(\"SELECT * FROM socrata_data\",conn)\n",
    "print(api_df.head())"
   ]
  },
  {
   "cell_type": "code",
   "execution_count": 11,
   "metadata": {},
   "outputs": [
    {
     "data": {
      "text/plain": [
       "Index(['id', 'permit_', 'permit_type', 'review_type', 'application_start_date',\n",
       "       'issue_date', 'processing_time', 'street_number', 'street_direction',\n",
       "       'street_name', 'suffix', 'work_description', 'building_fee_paid',\n",
       "       'other_fee_paid', 'subtotal_paid', 'building_fee_unpaid',\n",
       "       'zoning_fee_unpaid', 'zoning_fee_paid', 'other_fee_unpaid',\n",
       "       'subtotal_unpaid', 'building_fee_waived', 'zoning_fee_waived',\n",
       "       'other_fee_waived', 'subtotal_waived', 'total_fee', 'reported_cost',\n",
       "       'latitude', 'longitude'],\n",
       "      dtype='object')"
      ]
     },
     "execution_count": 11,
     "metadata": {},
     "output_type": "execute_result"
    }
   ],
   "source": []
  },
  {
   "cell_type": "code",
   "execution_count": null,
   "metadata": {},
   "outputs": [],
   "source": []
  }
 ],
 "metadata": {
  "kernelspec": {
   "display_name": "Python 3",
   "language": "python",
   "name": "python3"
  },
  "language_info": {
   "codemirror_mode": {
    "name": "ipython",
    "version": 3
   },
   "file_extension": ".py",
   "mimetype": "text/x-python",
   "name": "python",
   "nbconvert_exporter": "python",
   "pygments_lexer": "ipython3",
   "version": "3.8.5"
  }
 },
 "nbformat": 4,
 "nbformat_minor": 4
}
